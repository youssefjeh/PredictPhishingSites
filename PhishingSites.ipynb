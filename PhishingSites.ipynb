{
  "nbformat": 4,
  "nbformat_minor": 0,
  "metadata": {
    "colab": {
      "name": "PhishingSites.ipynb",
      "provenance": [],
      "collapsed_sections": []
    },
    "kernelspec": {
      "name": "python3",
      "display_name": "Python 3"
    },
    "language_info": {
      "name": "python"
    }
  },
  "cells": [
    {
      "cell_type": "code",
      "metadata": {
        "colab": {
          "base_uri": "https://localhost:8080/"
        },
        "id": "GxZ6_w2EnuZg",
        "outputId": "a73f7229-e4bd-4ff2-b9ae-00dd8f410adf"
      },
      "source": [
        "!pip install selenium "
      ],
      "execution_count": null,
      "outputs": [
        {
          "output_type": "stream",
          "name": "stdout",
          "text": [
            "Collecting selenium\n",
            "  Downloading selenium-4.1.0-py3-none-any.whl (958 kB)\n",
            "\u001b[?25l\r\u001b[K     |▍                               | 10 kB 22.3 MB/s eta 0:00:01\r\u001b[K     |▊                               | 20 kB 29.3 MB/s eta 0:00:01\r\u001b[K     |█                               | 30 kB 35.9 MB/s eta 0:00:01\r\u001b[K     |█▍                              | 40 kB 37.3 MB/s eta 0:00:01\r\u001b[K     |█▊                              | 51 kB 35.2 MB/s eta 0:00:01\r\u001b[K     |██                              | 61 kB 36.4 MB/s eta 0:00:01\r\u001b[K     |██▍                             | 71 kB 27.6 MB/s eta 0:00:01\r\u001b[K     |██▊                             | 81 kB 28.9 MB/s eta 0:00:01\r\u001b[K     |███                             | 92 kB 29.7 MB/s eta 0:00:01\r\u001b[K     |███▍                            | 102 kB 29.7 MB/s eta 0:00:01\r\u001b[K     |███▊                            | 112 kB 29.7 MB/s eta 0:00:01\r\u001b[K     |████                            | 122 kB 29.7 MB/s eta 0:00:01\r\u001b[K     |████▍                           | 133 kB 29.7 MB/s eta 0:00:01\r\u001b[K     |████▉                           | 143 kB 29.7 MB/s eta 0:00:01\r\u001b[K     |█████▏                          | 153 kB 29.7 MB/s eta 0:00:01\r\u001b[K     |█████▌                          | 163 kB 29.7 MB/s eta 0:00:01\r\u001b[K     |█████▉                          | 174 kB 29.7 MB/s eta 0:00:01\r\u001b[K     |██████▏                         | 184 kB 29.7 MB/s eta 0:00:01\r\u001b[K     |██████▌                         | 194 kB 29.7 MB/s eta 0:00:01\r\u001b[K     |██████▉                         | 204 kB 29.7 MB/s eta 0:00:01\r\u001b[K     |███████▏                        | 215 kB 29.7 MB/s eta 0:00:01\r\u001b[K     |███████▌                        | 225 kB 29.7 MB/s eta 0:00:01\r\u001b[K     |███████▉                        | 235 kB 29.7 MB/s eta 0:00:01\r\u001b[K     |████████▏                       | 245 kB 29.7 MB/s eta 0:00:01\r\u001b[K     |████████▌                       | 256 kB 29.7 MB/s eta 0:00:01\r\u001b[K     |████████▉                       | 266 kB 29.7 MB/s eta 0:00:01\r\u001b[K     |█████████▎                      | 276 kB 29.7 MB/s eta 0:00:01\r\u001b[K     |█████████▋                      | 286 kB 29.7 MB/s eta 0:00:01\r\u001b[K     |██████████                      | 296 kB 29.7 MB/s eta 0:00:01\r\u001b[K     |██████████▎                     | 307 kB 29.7 MB/s eta 0:00:01\r\u001b[K     |██████████▋                     | 317 kB 29.7 MB/s eta 0:00:01\r\u001b[K     |███████████                     | 327 kB 29.7 MB/s eta 0:00:01\r\u001b[K     |███████████▎                    | 337 kB 29.7 MB/s eta 0:00:01\r\u001b[K     |███████████▋                    | 348 kB 29.7 MB/s eta 0:00:01\r\u001b[K     |████████████                    | 358 kB 29.7 MB/s eta 0:00:01\r\u001b[K     |████████████▎                   | 368 kB 29.7 MB/s eta 0:00:01\r\u001b[K     |████████████▋                   | 378 kB 29.7 MB/s eta 0:00:01\r\u001b[K     |█████████████                   | 389 kB 29.7 MB/s eta 0:00:01\r\u001b[K     |█████████████▎                  | 399 kB 29.7 MB/s eta 0:00:01\r\u001b[K     |█████████████▊                  | 409 kB 29.7 MB/s eta 0:00:01\r\u001b[K     |██████████████                  | 419 kB 29.7 MB/s eta 0:00:01\r\u001b[K     |██████████████▍                 | 430 kB 29.7 MB/s eta 0:00:01\r\u001b[K     |██████████████▊                 | 440 kB 29.7 MB/s eta 0:00:01\r\u001b[K     |███████████████                 | 450 kB 29.7 MB/s eta 0:00:01\r\u001b[K     |███████████████▍                | 460 kB 29.7 MB/s eta 0:00:01\r\u001b[K     |███████████████▊                | 471 kB 29.7 MB/s eta 0:00:01\r\u001b[K     |████████████████                | 481 kB 29.7 MB/s eta 0:00:01\r\u001b[K     |████████████████▍               | 491 kB 29.7 MB/s eta 0:00:01\r\u001b[K     |████████████████▊               | 501 kB 29.7 MB/s eta 0:00:01\r\u001b[K     |█████████████████               | 512 kB 29.7 MB/s eta 0:00:01\r\u001b[K     |█████████████████▍              | 522 kB 29.7 MB/s eta 0:00:01\r\u001b[K     |█████████████████▊              | 532 kB 29.7 MB/s eta 0:00:01\r\u001b[K     |██████████████████▏             | 542 kB 29.7 MB/s eta 0:00:01\r\u001b[K     |██████████████████▌             | 552 kB 29.7 MB/s eta 0:00:01\r\u001b[K     |██████████████████▉             | 563 kB 29.7 MB/s eta 0:00:01\r\u001b[K     |███████████████████▏            | 573 kB 29.7 MB/s eta 0:00:01\r\u001b[K     |███████████████████▌            | 583 kB 29.7 MB/s eta 0:00:01\r\u001b[K     |███████████████████▉            | 593 kB 29.7 MB/s eta 0:00:01\r\u001b[K     |████████████████████▏           | 604 kB 29.7 MB/s eta 0:00:01\r\u001b[K     |████████████████████▌           | 614 kB 29.7 MB/s eta 0:00:01\r\u001b[K     |████████████████████▉           | 624 kB 29.7 MB/s eta 0:00:01\r\u001b[K     |█████████████████████▏          | 634 kB 29.7 MB/s eta 0:00:01\r\u001b[K     |█████████████████████▌          | 645 kB 29.7 MB/s eta 0:00:01\r\u001b[K     |█████████████████████▉          | 655 kB 29.7 MB/s eta 0:00:01\r\u001b[K     |██████████████████████▏         | 665 kB 29.7 MB/s eta 0:00:01\r\u001b[K     |██████████████████████▋         | 675 kB 29.7 MB/s eta 0:00:01\r\u001b[K     |███████████████████████         | 686 kB 29.7 MB/s eta 0:00:01\r\u001b[K     |███████████████████████▎        | 696 kB 29.7 MB/s eta 0:00:01\r\u001b[K     |███████████████████████▋        | 706 kB 29.7 MB/s eta 0:00:01\r\u001b[K     |████████████████████████        | 716 kB 29.7 MB/s eta 0:00:01\r\u001b[K     |████████████████████████▎       | 727 kB 29.7 MB/s eta 0:00:01\r\u001b[K     |████████████████████████▋       | 737 kB 29.7 MB/s eta 0:00:01\r\u001b[K     |█████████████████████████       | 747 kB 29.7 MB/s eta 0:00:01\r\u001b[K     |█████████████████████████▎      | 757 kB 29.7 MB/s eta 0:00:01\r\u001b[K     |█████████████████████████▋      | 768 kB 29.7 MB/s eta 0:00:01\r\u001b[K     |██████████████████████████      | 778 kB 29.7 MB/s eta 0:00:01\r\u001b[K     |██████████████████████████▎     | 788 kB 29.7 MB/s eta 0:00:01\r\u001b[K     |██████████████████████████▋     | 798 kB 29.7 MB/s eta 0:00:01\r\u001b[K     |███████████████████████████     | 808 kB 29.7 MB/s eta 0:00:01\r\u001b[K     |███████████████████████████▍    | 819 kB 29.7 MB/s eta 0:00:01\r\u001b[K     |███████████████████████████▊    | 829 kB 29.7 MB/s eta 0:00:01\r\u001b[K     |████████████████████████████    | 839 kB 29.7 MB/s eta 0:00:01\r\u001b[K     |████████████████████████████▍   | 849 kB 29.7 MB/s eta 0:00:01\r\u001b[K     |████████████████████████████▊   | 860 kB 29.7 MB/s eta 0:00:01\r\u001b[K     |█████████████████████████████   | 870 kB 29.7 MB/s eta 0:00:01\r\u001b[K     |█████████████████████████████▍  | 880 kB 29.7 MB/s eta 0:00:01\r\u001b[K     |█████████████████████████████▊  | 890 kB 29.7 MB/s eta 0:00:01\r\u001b[K     |██████████████████████████████  | 901 kB 29.7 MB/s eta 0:00:01\r\u001b[K     |██████████████████████████████▍ | 911 kB 29.7 MB/s eta 0:00:01\r\u001b[K     |██████████████████████████████▊ | 921 kB 29.7 MB/s eta 0:00:01\r\u001b[K     |███████████████████████████████ | 931 kB 29.7 MB/s eta 0:00:01\r\u001b[K     |███████████████████████████████▍| 942 kB 29.7 MB/s eta 0:00:01\r\u001b[K     |███████████████████████████████▉| 952 kB 29.7 MB/s eta 0:00:01\r\u001b[K     |████████████████████████████████| 958 kB 29.7 MB/s \n",
            "\u001b[?25hCollecting trio-websocket~=0.9\n",
            "  Downloading trio_websocket-0.9.2-py3-none-any.whl (16 kB)\n",
            "Collecting urllib3[secure]~=1.26\n",
            "  Downloading urllib3-1.26.7-py2.py3-none-any.whl (138 kB)\n",
            "\u001b[K     |████████████████████████████████| 138 kB 56.7 MB/s \n",
            "\u001b[?25hCollecting trio~=0.17\n",
            "  Downloading trio-0.19.0-py3-none-any.whl (356 kB)\n",
            "\u001b[K     |████████████████████████████████| 356 kB 60.1 MB/s \n",
            "\u001b[?25hCollecting sniffio\n",
            "  Downloading sniffio-1.2.0-py3-none-any.whl (10 kB)\n",
            "Requirement already satisfied: sortedcontainers in /usr/local/lib/python3.7/dist-packages (from trio~=0.17->selenium) (2.4.0)\n",
            "Requirement already satisfied: idna in /usr/local/lib/python3.7/dist-packages (from trio~=0.17->selenium) (2.10)\n",
            "Collecting async-generator>=1.9\n",
            "  Downloading async_generator-1.10-py3-none-any.whl (18 kB)\n",
            "Collecting outcome\n",
            "  Downloading outcome-1.1.0-py2.py3-none-any.whl (9.7 kB)\n",
            "Requirement already satisfied: attrs>=19.2.0 in /usr/local/lib/python3.7/dist-packages (from trio~=0.17->selenium) (21.2.0)\n",
            "Collecting wsproto>=0.14\n",
            "  Downloading wsproto-1.0.0-py3-none-any.whl (24 kB)\n",
            "Requirement already satisfied: certifi in /usr/local/lib/python3.7/dist-packages (from urllib3[secure]~=1.26->selenium) (2021.10.8)\n",
            "Collecting cryptography>=1.3.4\n",
            "  Downloading cryptography-36.0.0-cp36-abi3-manylinux_2_24_x86_64.whl (3.6 MB)\n",
            "\u001b[K     |████████████████████████████████| 3.6 MB 57.3 MB/s \n",
            "\u001b[?25hCollecting pyOpenSSL>=0.14\n",
            "  Downloading pyOpenSSL-21.0.0-py2.py3-none-any.whl (55 kB)\n",
            "\u001b[K     |████████████████████████████████| 55 kB 2.8 MB/s \n",
            "\u001b[?25hRequirement already satisfied: cffi>=1.12 in /usr/local/lib/python3.7/dist-packages (from cryptography>=1.3.4->urllib3[secure]~=1.26->selenium) (1.15.0)\n",
            "Requirement already satisfied: pycparser in /usr/local/lib/python3.7/dist-packages (from cffi>=1.12->cryptography>=1.3.4->urllib3[secure]~=1.26->selenium) (2.21)\n",
            "Requirement already satisfied: six>=1.5.2 in /usr/local/lib/python3.7/dist-packages (from pyOpenSSL>=0.14->urllib3[secure]~=1.26->selenium) (1.15.0)\n",
            "Collecting h11<1,>=0.9.0\n",
            "  Downloading h11-0.12.0-py3-none-any.whl (54 kB)\n",
            "\u001b[K     |████████████████████████████████| 54 kB 3.3 MB/s \n",
            "\u001b[?25hInstalling collected packages: sniffio, outcome, h11, cryptography, async-generator, wsproto, urllib3, trio, pyOpenSSL, trio-websocket, selenium\n",
            "  Attempting uninstall: urllib3\n",
            "    Found existing installation: urllib3 1.24.3\n",
            "    Uninstalling urllib3-1.24.3:\n",
            "      Successfully uninstalled urllib3-1.24.3\n",
            "\u001b[31mERROR: pip's dependency resolver does not currently take into account all the packages that are installed. This behaviour is the source of the following dependency conflicts.\n",
            "requests 2.23.0 requires urllib3!=1.25.0,!=1.25.1,<1.26,>=1.21.1, but you have urllib3 1.26.7 which is incompatible.\n",
            "datascience 0.10.6 requires folium==0.2.1, but you have folium 0.8.3 which is incompatible.\u001b[0m\n",
            "Successfully installed async-generator-1.10 cryptography-36.0.0 h11-0.12.0 outcome-1.1.0 pyOpenSSL-21.0.0 selenium-4.1.0 sniffio-1.2.0 trio-0.19.0 trio-websocket-0.9.2 urllib3-1.26.7 wsproto-1.0.0\n"
          ]
        }
      ]
    },
    {
      "cell_type": "markdown",
      "metadata": {
        "id": "lt6JH52F28cX"
      },
      "source": [
        "**Importing some useful libraries---------------------------------------------**"
      ]
    },
    {
      "cell_type": "code",
      "metadata": {
        "id": "2Gxb-tcjnIyH"
      },
      "source": [
        "import pandas as pd # la manipulation et l'analyse des données\n",
        "import numpy as np #tableau et matrice multidimensionnels\n",
        "\n",
        "import seaborn as sns #interface de haut niveau pour dessiner des graphiques statistiques attrayants et informatifs\n",
        "import matplotlib.pyplot as plt  # Il fournit une API orientée objet pour intégrer des tracés dans des applications\n",
        "%matplotlib inline \n",
        "import time #heure de calcul\n",
        "\n",
        "from sklearn.linear_model import LogisticRegression #algo utilisé pour prédire le bien ou le mal\n",
        "from sklearn.naive_bayes import MultinomialNB #algo nlp utiliser pour prédire bon ou mauvais\n",
        "\n",
        "from sklearn.model_selection import train_test_split #fractionnement des données entre l'entité et la cible\n",
        "from sklearn.metrics import classification_report # donne un rapport complet sur les métriques\n",
        "from sklearn.metrics import confusion_matrix # donne des informations sur le réel et prédit\n",
        "from nltk.tokenize import RegexpTokenizer # les tokenizers d'expression régulière utilisent pour séparer les mots du texte\n",
        "from nltk.stem.snowball import SnowballStemmer # mots souches\n",
        "from sklearn.feature_extraction.text import CountVectorizer # créer une matrice clairsemée de mots en utilisant regexptokenizes\n",
        "from sklearn.pipeline import make_pipeline # utilisation pour combiner tous les préprocesseurs techniuqes et algos\n",
        "\n",
        "from PIL import Image # obtenir des images dans le bloc-notes\n",
        "from bs4 import BeautifulSoup # utiliser pour extraire les données du site Web\n",
        "from selenium import webdriver # utiliser pour l'automatisation du chrome\n",
        "import networkx as nx # pour la création, la manipulation et l'étude de la structure, de la dynamique et des fonctions de réseaux complexes.\n",
        "\n",
        "import pickleshare # utiliser pour vider le modèle\n",
        "\n",
        "import warnings \n",
        "warnings.filterwarnings('ignore')"
      ],
      "execution_count": null,
      "outputs": []
    },
    {
      "cell_type": "markdown",
      "metadata": {
        "id": "OCRVlVTy3Xsq"
      },
      "source": [
        "**Loading the main dataset**"
      ]
    },
    {
      "cell_type": "code",
      "metadata": {
        "id": "XXFddIRTqPSX"
      },
      "source": [
        "phish_data = pd.read_csv('/content/phishing_site_urls.csv')"
      ],
      "execution_count": null,
      "outputs": []
    },
    {
      "cell_type": "code",
      "metadata": {
        "colab": {
          "base_uri": "https://localhost:8080/",
          "height": 203
        },
        "id": "WkF1b1jBqV1K",
        "outputId": "de6fae81-8df4-4a2b-8b95-a0d09f02d53e"
      },
      "source": [
        "phish_data.head()"
      ],
      "execution_count": null,
      "outputs": [
        {
          "output_type": "execute_result",
          "data": {
            "text/html": [
              "<div>\n",
              "<style scoped>\n",
              "    .dataframe tbody tr th:only-of-type {\n",
              "        vertical-align: middle;\n",
              "    }\n",
              "\n",
              "    .dataframe tbody tr th {\n",
              "        vertical-align: top;\n",
              "    }\n",
              "\n",
              "    .dataframe thead th {\n",
              "        text-align: right;\n",
              "    }\n",
              "</style>\n",
              "<table border=\"1\" class=\"dataframe\">\n",
              "  <thead>\n",
              "    <tr style=\"text-align: right;\">\n",
              "      <th></th>\n",
              "      <th>URL</th>\n",
              "      <th>Label</th>\n",
              "    </tr>\n",
              "  </thead>\n",
              "  <tbody>\n",
              "    <tr>\n",
              "      <th>0</th>\n",
              "      <td>nobell.it/70ffb52d079109dca5664cce6f317373782/...</td>\n",
              "      <td>bad</td>\n",
              "    </tr>\n",
              "    <tr>\n",
              "      <th>1</th>\n",
              "      <td>www.dghjdgf.com/paypal.co.uk/cycgi-bin/webscrc...</td>\n",
              "      <td>bad</td>\n",
              "    </tr>\n",
              "    <tr>\n",
              "      <th>2</th>\n",
              "      <td>serviciosbys.com/paypal.cgi.bin.get-into.herf....</td>\n",
              "      <td>bad</td>\n",
              "    </tr>\n",
              "    <tr>\n",
              "      <th>3</th>\n",
              "      <td>mail.printakid.com/www.online.americanexpress....</td>\n",
              "      <td>bad</td>\n",
              "    </tr>\n",
              "    <tr>\n",
              "      <th>4</th>\n",
              "      <td>thewhiskeydregs.com/wp-content/themes/widescre...</td>\n",
              "      <td>bad</td>\n",
              "    </tr>\n",
              "  </tbody>\n",
              "</table>\n",
              "</div>"
            ],
            "text/plain": [
              "                                                 URL Label\n",
              "0  nobell.it/70ffb52d079109dca5664cce6f317373782/...   bad\n",
              "1  www.dghjdgf.com/paypal.co.uk/cycgi-bin/webscrc...   bad\n",
              "2  serviciosbys.com/paypal.cgi.bin.get-into.herf....   bad\n",
              "3  mail.printakid.com/www.online.americanexpress....   bad\n",
              "4  thewhiskeydregs.com/wp-content/themes/widescre...   bad"
            ]
          },
          "metadata": {},
          "execution_count": 5
        }
      ]
    },
    {
      "cell_type": "code",
      "metadata": {
        "colab": {
          "base_uri": "https://localhost:8080/",
          "height": 203
        },
        "id": "o_iQmGzQqaUg",
        "outputId": "075d4098-538f-4470-b57f-8179491516b1"
      },
      "source": [
        "phish_data.tail()"
      ],
      "execution_count": null,
      "outputs": [
        {
          "output_type": "execute_result",
          "data": {
            "text/html": [
              "<div>\n",
              "<style scoped>\n",
              "    .dataframe tbody tr th:only-of-type {\n",
              "        vertical-align: middle;\n",
              "    }\n",
              "\n",
              "    .dataframe tbody tr th {\n",
              "        vertical-align: top;\n",
              "    }\n",
              "\n",
              "    .dataframe thead th {\n",
              "        text-align: right;\n",
              "    }\n",
              "</style>\n",
              "<table border=\"1\" class=\"dataframe\">\n",
              "  <thead>\n",
              "    <tr style=\"text-align: right;\">\n",
              "      <th></th>\n",
              "      <th>URL</th>\n",
              "      <th>Label</th>\n",
              "    </tr>\n",
              "  </thead>\n",
              "  <tbody>\n",
              "    <tr>\n",
              "      <th>549341</th>\n",
              "      <td>23.227.196.215/</td>\n",
              "      <td>bad</td>\n",
              "    </tr>\n",
              "    <tr>\n",
              "      <th>549342</th>\n",
              "      <td>apple-checker.org/</td>\n",
              "      <td>bad</td>\n",
              "    </tr>\n",
              "    <tr>\n",
              "      <th>549343</th>\n",
              "      <td>apple-iclods.org/</td>\n",
              "      <td>bad</td>\n",
              "    </tr>\n",
              "    <tr>\n",
              "      <th>549344</th>\n",
              "      <td>apple-uptoday.org/</td>\n",
              "      <td>bad</td>\n",
              "    </tr>\n",
              "    <tr>\n",
              "      <th>549345</th>\n",
              "      <td>apple-search.info</td>\n",
              "      <td>bad</td>\n",
              "    </tr>\n",
              "  </tbody>\n",
              "</table>\n",
              "</div>"
            ],
            "text/plain": [
              "                       URL Label\n",
              "549341     23.227.196.215/   bad\n",
              "549342  apple-checker.org/   bad\n",
              "549343   apple-iclods.org/   bad\n",
              "549344  apple-uptoday.org/   bad\n",
              "549345   apple-search.info   bad"
            ]
          },
          "metadata": {},
          "execution_count": 6
        }
      ]
    },
    {
      "cell_type": "code",
      "metadata": {
        "colab": {
          "base_uri": "https://localhost:8080/",
          "height": 203
        },
        "id": "uuZ3NCCfqeF8",
        "outputId": "3098ce56-2803-435b-ce12-58dcd9962573"
      },
      "source": [
        "phish_data.sample(5)"
      ],
      "execution_count": null,
      "outputs": [
        {
          "output_type": "execute_result",
          "data": {
            "text/html": [
              "<div>\n",
              "<style scoped>\n",
              "    .dataframe tbody tr th:only-of-type {\n",
              "        vertical-align: middle;\n",
              "    }\n",
              "\n",
              "    .dataframe tbody tr th {\n",
              "        vertical-align: top;\n",
              "    }\n",
              "\n",
              "    .dataframe thead th {\n",
              "        text-align: right;\n",
              "    }\n",
              "</style>\n",
              "<table border=\"1\" class=\"dataframe\">\n",
              "  <thead>\n",
              "    <tr style=\"text-align: right;\">\n",
              "      <th></th>\n",
              "      <th>URL</th>\n",
              "      <th>Label</th>\n",
              "    </tr>\n",
              "  </thead>\n",
              "  <tbody>\n",
              "    <tr>\n",
              "      <th>238963</th>\n",
              "      <td>shop.nick.com/category/48046660381/1/Blues-Clu...</td>\n",
              "      <td>good</td>\n",
              "    </tr>\n",
              "    <tr>\n",
              "      <th>98660</th>\n",
              "      <td>cherrygrovewheredidthesummergo.com/js/up/fag/8...</td>\n",
              "      <td>bad</td>\n",
              "    </tr>\n",
              "    <tr>\n",
              "      <th>195249</th>\n",
              "      <td>groups.yahoo.com/group/russian_language/messag...</td>\n",
              "      <td>good</td>\n",
              "    </tr>\n",
              "    <tr>\n",
              "      <th>473757</th>\n",
              "      <td>youtube.com/watch?v=OB2bpNQY0Oo</td>\n",
              "      <td>good</td>\n",
              "    </tr>\n",
              "    <tr>\n",
              "      <th>243391</th>\n",
              "      <td>stinkylulu.blogspot.com/2007/11/jo-van-fleet-i...</td>\n",
              "      <td>good</td>\n",
              "    </tr>\n",
              "  </tbody>\n",
              "</table>\n",
              "</div>"
            ],
            "text/plain": [
              "                                                      URL Label\n",
              "238963  shop.nick.com/category/48046660381/1/Blues-Clu...  good\n",
              "98660   cherrygrovewheredidthesummergo.com/js/up/fag/8...   bad\n",
              "195249  groups.yahoo.com/group/russian_language/messag...  good\n",
              "473757                    youtube.com/watch?v=OB2bpNQY0Oo  good\n",
              "243391  stinkylulu.blogspot.com/2007/11/jo-van-fleet-i...  good"
            ]
          },
          "metadata": {},
          "execution_count": 7
        }
      ]
    },
    {
      "cell_type": "code",
      "metadata": {
        "colab": {
          "base_uri": "https://localhost:8080/"
        },
        "id": "q_yZE_3Lqpfy",
        "outputId": "9cbc446a-71b2-4173-9be8-6304dc920cc1"
      },
      "source": [
        "phish_data.info()"
      ],
      "execution_count": null,
      "outputs": [
        {
          "output_type": "stream",
          "name": "stdout",
          "text": [
            "<class 'pandas.core.frame.DataFrame'>\n",
            "RangeIndex: 549346 entries, 0 to 549345\n",
            "Data columns (total 2 columns):\n",
            " #   Column  Non-Null Count   Dtype \n",
            "---  ------  --------------   ----- \n",
            " 0   URL     549346 non-null  object\n",
            " 1   Label   549346 non-null  object\n",
            "dtypes: object(2)\n",
            "memory usage: 8.4+ MB\n"
          ]
        }
      ]
    },
    {
      "cell_type": "code",
      "metadata": {
        "colab": {
          "base_uri": "https://localhost:8080/"
        },
        "id": "6CvfJ6aMq0F1",
        "outputId": "527a3f89-62f2-4585-d223-e5a3b6c32e7f"
      },
      "source": [
        "phish_data.isnull().sum()"
      ],
      "execution_count": null,
      "outputs": [
        {
          "output_type": "execute_result",
          "data": {
            "text/plain": [
              "URL      0\n",
              "Label    0\n",
              "dtype: int64"
            ]
          },
          "metadata": {},
          "execution_count": 9
        }
      ]
    },
    {
      "cell_type": "code",
      "metadata": {
        "id": "J79pMb2dq3pd"
      },
      "source": [
        "label_counts = pd.DataFrame(phish_data.Label.value_counts())"
      ],
      "execution_count": null,
      "outputs": []
    },
    {
      "cell_type": "code",
      "metadata": {
        "colab": {
          "base_uri": "https://localhost:8080/",
          "height": 282
        },
        "id": "fruftN-2q6HR",
        "outputId": "4b5253b9-4db4-4d90-d061-3326c6f7ee14"
      },
      "source": [
        "sns.set_style('darkgrid')\n",
        "sns.barplot(label_counts.index,label_counts.Label)"
      ],
      "execution_count": null,
      "outputs": [
        {
          "output_type": "execute_result",
          "data": {
            "text/plain": [
              "<matplotlib.axes._subplots.AxesSubplot at 0x7f5a9f8fb810>"
            ]
          },
          "metadata": {},
          "execution_count": 11
        },
        {
          "output_type": "display_data",
          "data": {
            "image/png": "[encoded data removed]",
            "text/plain": [
              "<Figure size 432x288 with 1 Axes>"
            ]
          },
          "metadata": {}
        }
      ]
    },
    {
      "cell_type": "markdown",
      "metadata": {
        "id": "7utUNUpX38kf"
      },
      "source": [
        "**Preprocessing---------------------------------------------------------------**"
      ]
    },
    {
      "cell_type": "code",
      "metadata": {
        "id": "rTIOXWzyq9kw"
      },
      "source": [
        "tokenizer = RegexpTokenizer(r'[A-Za-z]+')"
      ],
      "execution_count": null,
      "outputs": []
    },
    {
      "cell_type": "code",
      "metadata": {
        "colab": {
          "base_uri": "https://localhost:8080/",
          "height": 52
        },
        "id": "BjvYNbKfrAEU",
        "outputId": "211decdb-0302-4d14-8c1e-39ebaef30be0"
      },
      "source": [
        "phish_data.URL[0]"
      ],
      "execution_count": null,
      "outputs": [
        {
          "output_type": "execute_result",
          "data": {
            "application/vnd.google.colaboratory.intrinsic+json": {
              "type": "string"
            },
            "text/plain": [
              "'nobell.it/70ffb52d079109dca5664cce6f317373782/login.SkyPe.com/en/cgi-bin/verification/login/70ffb52d079109dca5664cce6f317373/index.php?cmd=_profile-ach&outdated_page_tmpl=p/gen/failed-to-load&nav=0.5.1&login_access=1322408526'"
            ]
          },
          "metadata": {},
          "execution_count": 13
        }
      ]
    },
    {
      "cell_type": "code",
      "metadata": {
        "colab": {
          "base_uri": "https://localhost:8080/"
        },
        "id": "2Pns1mJErDHm",
        "outputId": "6c250e96-f8b6-472d-8e2d-e40fc08d4a18"
      },
      "source": [
        "tokenizer.tokenize(phish_data.URL[0])"
      ],
      "execution_count": null,
      "outputs": [
        {
          "output_type": "execute_result",
          "data": {
            "text/plain": [
              "['nobell',\n",
              " 'it',\n",
              " 'ffb',\n",
              " 'd',\n",
              " 'dca',\n",
              " 'cce',\n",
              " 'f',\n",
              " 'login',\n",
              " 'SkyPe',\n",
              " 'com',\n",
              " 'en',\n",
              " 'cgi',\n",
              " 'bin',\n",
              " 'verification',\n",
              " 'login',\n",
              " 'ffb',\n",
              " 'd',\n",
              " 'dca',\n",
              " 'cce',\n",
              " 'f',\n",
              " 'index',\n",
              " 'php',\n",
              " 'cmd',\n",
              " 'profile',\n",
              " 'ach',\n",
              " 'outdated',\n",
              " 'page',\n",
              " 'tmpl',\n",
              " 'p',\n",
              " 'gen',\n",
              " 'failed',\n",
              " 'to',\n",
              " 'load',\n",
              " 'nav',\n",
              " 'login',\n",
              " 'access']"
            ]
          },
          "metadata": {},
          "execution_count": 14
        }
      ]
    },
    {
      "cell_type": "code",
      "metadata": {
        "colab": {
          "base_uri": "https://localhost:8080/"
        },
        "id": "DYFugS0LrGdu",
        "outputId": "64681faf-e60c-44e8-8736-18c0e86760d8"
      },
      "source": [
        "print('Getting words tokenized ...')\n",
        "t0= time.perf_counter()\n",
        "phish_data['text_tokenized'] = phish_data.URL.map(lambda t: tokenizer.tokenize(t)) # doing with all rows\n",
        "t1 = time.perf_counter() - t0\n",
        "print('Time taken',t1 ,'sec')"
      ],
      "execution_count": null,
      "outputs": [
        {
          "output_type": "stream",
          "name": "stdout",
          "text": [
            "Getting words tokenized ...\n",
            "Time taken 2.376005387999612 sec\n"
          ]
        }
      ]
    },
    {
      "cell_type": "code",
      "metadata": {
        "colab": {
          "base_uri": "https://localhost:8080/",
          "height": 203
        },
        "id": "X43c3E2LrLK2",
        "outputId": "8dc23cf0-cebe-4f25-8f28-3562446c4b29"
      },
      "source": [
        "phish_data.sample(5)"
      ],
      "execution_count": null,
      "outputs": [
        {
          "output_type": "execute_result",
          "data": {
            "text/html": [
              "<div>\n",
              "<style scoped>\n",
              "    .dataframe tbody tr th:only-of-type {\n",
              "        vertical-align: middle;\n",
              "    }\n",
              "\n",
              "    .dataframe tbody tr th {\n",
              "        vertical-align: top;\n",
              "    }\n",
              "\n",
              "    .dataframe thead th {\n",
              "        text-align: right;\n",
              "    }\n",
              "</style>\n",
              "<table border=\"1\" class=\"dataframe\">\n",
              "  <thead>\n",
              "    <tr style=\"text-align: right;\">\n",
              "      <th></th>\n",
              "      <th>URL</th>\n",
              "      <th>Label</th>\n",
              "      <th>text_tokenized</th>\n",
              "    </tr>\n",
              "  </thead>\n",
              "  <tbody>\n",
              "    <tr>\n",
              "      <th>254532</th>\n",
              "      <td>valuethiswebsite.com/www.yoopa.ca</td>\n",
              "      <td>good</td>\n",
              "      <td>[valuethiswebsite, com, www, yoopa, ca]</td>\n",
              "    </tr>\n",
              "    <tr>\n",
              "      <th>47600</th>\n",
              "      <td>service.confirm.paypal.cmd.cgi-bin.2466sd4f3e6...</td>\n",
              "      <td>bad</td>\n",
              "      <td>[service, confirm, paypal, cmd, cgi, bin, sd, ...</td>\n",
              "    </tr>\n",
              "    <tr>\n",
              "      <th>272221</th>\n",
              "      <td>allmusic.com/explore/style/riot-grrrl-d2779</td>\n",
              "      <td>good</td>\n",
              "      <td>[allmusic, com, explore, style, riot, grrrl, d]</td>\n",
              "    </tr>\n",
              "    <tr>\n",
              "      <th>357787</th>\n",
              "      <td>imdb.com/name/nm0001848/</td>\n",
              "      <td>good</td>\n",
              "      <td>[imdb, com, name, nm]</td>\n",
              "    </tr>\n",
              "    <tr>\n",
              "      <th>199301</th>\n",
              "      <td>icehockey.wikia.com/wiki/J._J._Daigneault</td>\n",
              "      <td>good</td>\n",
              "      <td>[icehockey, wikia, com, wiki, J, J, Daigneault]</td>\n",
              "    </tr>\n",
              "  </tbody>\n",
              "</table>\n",
              "</div>"
            ],
            "text/plain": [
              "                                                      URL  ...                                     text_tokenized\n",
              "254532                  valuethiswebsite.com/www.yoopa.ca  ...            [valuethiswebsite, com, www, yoopa, ca]\n",
              "47600   service.confirm.paypal.cmd.cgi-bin.2466sd4f3e6...  ...  [service, confirm, paypal, cmd, cgi, bin, sd, ...\n",
              "272221        allmusic.com/explore/style/riot-grrrl-d2779  ...    [allmusic, com, explore, style, riot, grrrl, d]\n",
              "357787                           imdb.com/name/nm0001848/  ...                              [imdb, com, name, nm]\n",
              "199301          icehockey.wikia.com/wiki/J._J._Daigneault  ...    [icehockey, wikia, com, wiki, J, J, Daigneault]\n",
              "\n",
              "[5 rows x 3 columns]"
            ]
          },
          "metadata": {},
          "execution_count": 16
        }
      ]
    },
    {
      "cell_type": "code",
      "metadata": {
        "id": "1asAtkHCrP0A"
      },
      "source": [
        "stemmer = SnowballStemmer(\"english\") "
      ],
      "execution_count": null,
      "outputs": []
    },
    {
      "cell_type": "code",
      "metadata": {
        "colab": {
          "base_uri": "https://localhost:8080/"
        },
        "id": "XjVjcbb8rWcJ",
        "outputId": "571f733f-b68a-40ad-9e4f-630776c8b6e2"
      },
      "source": [
        "print('Getting words stemmed ...')\n",
        "t0= time.perf_counter()\n",
        "phish_data['text_stemmed'] = phish_data['text_tokenized'].map(lambda l: [stemmer.stem(word) for word in l])\n",
        "t1= time.perf_counter() - t0\n",
        "print('Time taken',t1 ,'sec')"
      ],
      "execution_count": null,
      "outputs": [
        {
          "output_type": "stream",
          "name": "stdout",
          "text": [
            "Getting words stemmed ...\n",
            "Time taken 54.49844502899987 sec\n"
          ]
        }
      ]
    },
    {
      "cell_type": "code",
      "metadata": {
        "colab": {
          "base_uri": "https://localhost:8080/",
          "height": 203
        },
        "id": "rbhHnv_mr4jL",
        "outputId": "50d078e0-8296-4ed4-c3c3-76c6111df99b"
      },
      "source": [
        "phish_data.sample(5)"
      ],
      "execution_count": null,
      "outputs": [
        {
          "output_type": "execute_result",
          "data": {
            "text/html": [
              "<div>\n",
              "<style scoped>\n",
              "    .dataframe tbody tr th:only-of-type {\n",
              "        vertical-align: middle;\n",
              "    }\n",
              "\n",
              "    .dataframe tbody tr th {\n",
              "        vertical-align: top;\n",
              "    }\n",
              "\n",
              "    .dataframe thead th {\n",
              "        text-align: right;\n",
              "    }\n",
              "</style>\n",
              "<table border=\"1\" class=\"dataframe\">\n",
              "  <thead>\n",
              "    <tr style=\"text-align: right;\">\n",
              "      <th></th>\n",
              "      <th>URL</th>\n",
              "      <th>Label</th>\n",
              "      <th>text_tokenized</th>\n",
              "      <th>text_stemmed</th>\n",
              "    </tr>\n",
              "  </thead>\n",
              "  <tbody>\n",
              "    <tr>\n",
              "      <th>209256</th>\n",
              "      <td>locator.goodwill.org/</td>\n",
              "      <td>good</td>\n",
              "      <td>[locator, goodwill, org]</td>\n",
              "      <td>[locat, goodwil, org]</td>\n",
              "    </tr>\n",
              "    <tr>\n",
              "      <th>539385</th>\n",
              "      <td>computerhome.lu/87yfhc</td>\n",
              "      <td>bad</td>\n",
              "      <td>[computerhome, lu, yfhc]</td>\n",
              "      <td>[computerhom, lu, yfhc]</td>\n",
              "    </tr>\n",
              "    <tr>\n",
              "      <th>95569</th>\n",
              "      <td>www.level80.co.uk/psblood.htm</td>\n",
              "      <td>good</td>\n",
              "      <td>[www, level, co, uk, psblood, htm]</td>\n",
              "      <td>[www, level, co, uk, psblood, htm]</td>\n",
              "    </tr>\n",
              "    <tr>\n",
              "      <th>378965</th>\n",
              "      <td>locatetv.com/movie/too-rich-the-secret-life-of...</td>\n",
              "      <td>good</td>\n",
              "      <td>[locatetv, com, movie, too, rich, the, secret,...</td>\n",
              "      <td>[locatetv, com, movi, too, rich, the, secret, ...</td>\n",
              "    </tr>\n",
              "    <tr>\n",
              "      <th>406396</th>\n",
              "      <td>northerntool.com/shop/tools/product_200436506_...</td>\n",
              "      <td>good</td>\n",
              "      <td>[northerntool, com, shop, tools, product, cm, ...</td>\n",
              "      <td>[northerntool, com, shop, tool, product, cm, v...</td>\n",
              "    </tr>\n",
              "  </tbody>\n",
              "</table>\n",
              "</div>"
            ],
            "text/plain": [
              "                                                      URL  ...                                       text_stemmed\n",
              "209256                              locator.goodwill.org/  ...                              [locat, goodwil, org]\n",
              "539385                             computerhome.lu/87yfhc  ...                            [computerhom, lu, yfhc]\n",
              "95569                       www.level80.co.uk/psblood.htm  ...                 [www, level, co, uk, psblood, htm]\n",
              "378965  locatetv.com/movie/too-rich-the-secret-life-of...  ...  [locatetv, com, movi, too, rich, the, secret, ...\n",
              "406396  northerntool.com/shop/tools/product_200436506_...  ...  [northerntool, com, shop, tool, product, cm, v...\n",
              "\n",
              "[5 rows x 4 columns]"
            ]
          },
          "metadata": {},
          "execution_count": 19
        }
      ]
    },
    {
      "cell_type": "code",
      "metadata": {
        "colab": {
          "base_uri": "https://localhost:8080/"
        },
        "id": "hiTsCeYNsFsm",
        "outputId": "c7553eb6-e437-4328-8bee-4c363d154f36"
      },
      "source": [
        "print('Getting joiningwords ...')\n",
        "t0= time.perf_counter()\n",
        "phish_data['text_sent'] = phish_data['text_stemmed'].map(lambda l: ' '.join(l))\n",
        "t1= time.perf_counter() - t0\n",
        "print('Time taken',t1 ,'sec')"
      ],
      "execution_count": null,
      "outputs": [
        {
          "output_type": "stream",
          "name": "stdout",
          "text": [
            "Getting joiningwords ...\n",
            "Time taken 0.2785677250003573 sec\n"
          ]
        }
      ]
    },
    {
      "cell_type": "code",
      "metadata": {
        "colab": {
          "base_uri": "https://localhost:8080/",
          "height": 287
        },
        "id": "rEb81ZbxsM0-",
        "outputId": "de012e4f-f8e5-441e-ebe5-b7d3e1ae39b4"
      },
      "source": [
        "phish_data.sample(5)"
      ],
      "execution_count": null,
      "outputs": [
        {
          "output_type": "execute_result",
          "data": {
            "text/html": [
              "<div>\n",
              "<style scoped>\n",
              "    .dataframe tbody tr th:only-of-type {\n",
              "        vertical-align: middle;\n",
              "    }\n",
              "\n",
              "    .dataframe tbody tr th {\n",
              "        vertical-align: top;\n",
              "    }\n",
              "\n",
              "    .dataframe thead th {\n",
              "        text-align: right;\n",
              "    }\n",
              "</style>\n",
              "<table border=\"1\" class=\"dataframe\">\n",
              "  <thead>\n",
              "    <tr style=\"text-align: right;\">\n",
              "      <th></th>\n",
              "      <th>URL</th>\n",
              "      <th>Label</th>\n",
              "      <th>text_tokenized</th>\n",
              "      <th>text_stemmed</th>\n",
              "      <th>text_sent</th>\n",
              "    </tr>\n",
              "  </thead>\n",
              "  <tbody>\n",
              "    <tr>\n",
              "      <th>277539</th>\n",
              "      <td>amazon.com/Topps-Baseball-Nixon-Montreal-Expos...</td>\n",
              "      <td>good</td>\n",
              "      <td>[amazon, com, Topps, Baseball, Nixon, Montreal...</td>\n",
              "      <td>[amazon, com, topp, basebal, nixon, montreal, ...</td>\n",
              "      <td>amazon com topp basebal nixon montreal expo dp...</td>\n",
              "    </tr>\n",
              "    <tr>\n",
              "      <th>37754</th>\n",
              "      <td>'paypal.us.login.account.confirmed.verfiyed.cg...</td>\n",
              "      <td>bad</td>\n",
              "      <td>[paypal, us, login, account, confirmed, verfiy...</td>\n",
              "      <td>[paypal, us, login, account, confirm, verfiy, ...</td>\n",
              "      <td>paypal us login account confirm verfiy cgi bin...</td>\n",
              "    </tr>\n",
              "    <tr>\n",
              "      <th>380918</th>\n",
              "      <td>lyricsmode.com/lyrics/n/nirvana/baba_o_riley.html</td>\n",
              "      <td>good</td>\n",
              "      <td>[lyricsmode, com, lyrics, n, nirvana, baba, o,...</td>\n",
              "      <td>[lyricsmod, com, lyric, n, nirvana, baba, o, r...</td>\n",
              "      <td>lyricsmod com lyric n nirvana baba o riley html</td>\n",
              "    </tr>\n",
              "    <tr>\n",
              "      <th>230155</th>\n",
              "      <td>pktube.onepakistan.com/heavy+metal+music/</td>\n",
              "      <td>good</td>\n",
              "      <td>[pktube, onepakistan, com, heavy, metal, music]</td>\n",
              "      <td>[pktube, onepakistan, com, heavi, metal, music]</td>\n",
              "      <td>pktube onepakistan com heavi metal music</td>\n",
              "    </tr>\n",
              "    <tr>\n",
              "      <th>308084</th>\n",
              "      <td>columbiatribune.com/news/2010/oct/15/sean-heng...</td>\n",
              "      <td>good</td>\n",
              "      <td>[columbiatribune, com, news, oct, sean, hengel...</td>\n",
              "      <td>[columbiatribun, com, news, oct, sean, hengel,...</td>\n",
              "      <td>columbiatribun com news oct sean hengel obituari</td>\n",
              "    </tr>\n",
              "  </tbody>\n",
              "</table>\n",
              "</div>"
            ],
            "text/plain": [
              "                                                      URL  ...                                          text_sent\n",
              "277539  amazon.com/Topps-Baseball-Nixon-Montreal-Expos...  ...  amazon com topp basebal nixon montreal expo dp...\n",
              "37754   'paypal.us.login.account.confirmed.verfiyed.cg...  ...  paypal us login account confirm verfiy cgi bin...\n",
              "380918  lyricsmode.com/lyrics/n/nirvana/baba_o_riley.html  ...    lyricsmod com lyric n nirvana baba o riley html\n",
              "230155          pktube.onepakistan.com/heavy+metal+music/  ...           pktube onepakistan com heavi metal music\n",
              "308084  columbiatribune.com/news/2010/oct/15/sean-heng...  ...   columbiatribun com news oct sean hengel obituari\n",
              "\n",
              "[5 rows x 5 columns]"
            ]
          },
          "metadata": {},
          "execution_count": 21
        }
      ]
    },
    {
      "cell_type": "code",
      "metadata": {
        "id": "g0pakAzmsSOv"
      },
      "source": [
        "bad_sites = phish_data[phish_data.Label == 'bad']\n",
        "good_sites = phish_data[phish_data.Label == 'good']"
      ],
      "execution_count": null,
      "outputs": []
    },
    {
      "cell_type": "code",
      "metadata": {
        "colab": {
          "base_uri": "https://localhost:8080/",
          "height": 287
        },
        "id": "kKqlLoKVsVu8",
        "outputId": "9f508112-6e16-46b5-cd61-22573c2cc613"
      },
      "source": [
        "bad_sites.head()"
      ],
      "execution_count": null,
      "outputs": [
        {
          "output_type": "execute_result",
          "data": {
            "text/html": [
              "<div>\n",
              "<style scoped>\n",
              "    .dataframe tbody tr th:only-of-type {\n",
              "        vertical-align: middle;\n",
              "    }\n",
              "\n",
              "    .dataframe tbody tr th {\n",
              "        vertical-align: top;\n",
              "    }\n",
              "\n",
              "    .dataframe thead th {\n",
              "        text-align: right;\n",
              "    }\n",
              "</style>\n",
              "<table border=\"1\" class=\"dataframe\">\n",
              "  <thead>\n",
              "    <tr style=\"text-align: right;\">\n",
              "      <th></th>\n",
              "      <th>URL</th>\n",
              "      <th>Label</th>\n",
              "      <th>text_tokenized</th>\n",
              "      <th>text_stemmed</th>\n",
              "      <th>text_sent</th>\n",
              "    </tr>\n",
              "  </thead>\n",
              "  <tbody>\n",
              "    <tr>\n",
              "      <th>0</th>\n",
              "      <td>nobell.it/70ffb52d079109dca5664cce6f317373782/...</td>\n",
              "      <td>bad</td>\n",
              "      <td>[nobell, it, ffb, d, dca, cce, f, login, SkyPe...</td>\n",
              "      <td>[nobel, it, ffb, d, dca, cce, f, login, skype,...</td>\n",
              "      <td>nobel it ffb d dca cce f login skype com en cg...</td>\n",
              "    </tr>\n",
              "    <tr>\n",
              "      <th>1</th>\n",
              "      <td>www.dghjdgf.com/paypal.co.uk/cycgi-bin/webscrc...</td>\n",
              "      <td>bad</td>\n",
              "      <td>[www, dghjdgf, com, paypal, co, uk, cycgi, bin...</td>\n",
              "      <td>[www, dghjdgf, com, paypal, co, uk, cycgi, bin...</td>\n",
              "      <td>www dghjdgf com paypal co uk cycgi bin webscrc...</td>\n",
              "    </tr>\n",
              "    <tr>\n",
              "      <th>2</th>\n",
              "      <td>serviciosbys.com/paypal.cgi.bin.get-into.herf....</td>\n",
              "      <td>bad</td>\n",
              "      <td>[serviciosbys, com, paypal, cgi, bin, get, int...</td>\n",
              "      <td>[serviciosbi, com, paypal, cgi, bin, get, into...</td>\n",
              "      <td>serviciosbi com paypal cgi bin get into herf s...</td>\n",
              "    </tr>\n",
              "    <tr>\n",
              "      <th>3</th>\n",
              "      <td>mail.printakid.com/www.online.americanexpress....</td>\n",
              "      <td>bad</td>\n",
              "      <td>[mail, printakid, com, www, online, americanex...</td>\n",
              "      <td>[mail, printakid, com, www, onlin, americanexp...</td>\n",
              "      <td>mail printakid com www onlin americanexpress c...</td>\n",
              "    </tr>\n",
              "    <tr>\n",
              "      <th>4</th>\n",
              "      <td>thewhiskeydregs.com/wp-content/themes/widescre...</td>\n",
              "      <td>bad</td>\n",
              "      <td>[thewhiskeydregs, com, wp, content, themes, wi...</td>\n",
              "      <td>[thewhiskeydreg, com, wp, content, theme, wide...</td>\n",
              "      <td>thewhiskeydreg com wp content theme widescreen...</td>\n",
              "    </tr>\n",
              "  </tbody>\n",
              "</table>\n",
              "</div>"
            ],
            "text/plain": [
              "                                                 URL  ...                                          text_sent\n",
              "0  nobell.it/70ffb52d079109dca5664cce6f317373782/...  ...  nobel it ffb d dca cce f login skype com en cg...\n",
              "1  www.dghjdgf.com/paypal.co.uk/cycgi-bin/webscrc...  ...  www dghjdgf com paypal co uk cycgi bin webscrc...\n",
              "2  serviciosbys.com/paypal.cgi.bin.get-into.herf....  ...  serviciosbi com paypal cgi bin get into herf s...\n",
              "3  mail.printakid.com/www.online.americanexpress....  ...  mail printakid com www onlin americanexpress c...\n",
              "4  thewhiskeydregs.com/wp-content/themes/widescre...  ...  thewhiskeydreg com wp content theme widescreen...\n",
              "\n",
              "[5 rows x 5 columns]"
            ]
          },
          "metadata": {},
          "execution_count": 23
        }
      ]
    },
    {
      "cell_type": "code",
      "metadata": {
        "colab": {
          "base_uri": "https://localhost:8080/",
          "height": 270
        },
        "id": "mIdExRIMsZ2Q",
        "outputId": "19927131-f458-4443-f4f1-3a0b062bfe7a"
      },
      "source": [
        "good_sites.head()"
      ],
      "execution_count": null,
      "outputs": [
        {
          "output_type": "execute_result",
          "data": {
            "text/html": [
              "<div>\n",
              "<style scoped>\n",
              "    .dataframe tbody tr th:only-of-type {\n",
              "        vertical-align: middle;\n",
              "    }\n",
              "\n",
              "    .dataframe tbody tr th {\n",
              "        vertical-align: top;\n",
              "    }\n",
              "\n",
              "    .dataframe thead th {\n",
              "        text-align: right;\n",
              "    }\n",
              "</style>\n",
              "<table border=\"1\" class=\"dataframe\">\n",
              "  <thead>\n",
              "    <tr style=\"text-align: right;\">\n",
              "      <th></th>\n",
              "      <th>URL</th>\n",
              "      <th>Label</th>\n",
              "      <th>text_tokenized</th>\n",
              "      <th>text_stemmed</th>\n",
              "      <th>text_sent</th>\n",
              "    </tr>\n",
              "  </thead>\n",
              "  <tbody>\n",
              "    <tr>\n",
              "      <th>18231</th>\n",
              "      <td>esxcc.com/js/index.htm?us.battle.net/noghn/en/...</td>\n",
              "      <td>good</td>\n",
              "      <td>[esxcc, com, js, index, htm, us, battle, net, ...</td>\n",
              "      <td>[esxcc, com, js, index, htm, us, battl, net, n...</td>\n",
              "      <td>esxcc com js index htm us battl net noghn en r...</td>\n",
              "    </tr>\n",
              "    <tr>\n",
              "      <th>18232</th>\n",
              "      <td>www\u000eeira¯&amp;nvinip¿ncH¯wVö%ÆåyDaHðû/ÏyEùu\u0003Ë\\nÓ\u00176...</td>\n",
              "      <td>good</td>\n",
              "      <td>[www, eira, nvinip, ncH, wV, yDaH, yE, u, rT, ...</td>\n",
              "      <td>[www, eira, nvinip, nch, wv, ydah, ye, u, rt, ...</td>\n",
              "      <td>www eira nvinip nch wv ydah ye u rt u g m i xz...</td>\n",
              "    </tr>\n",
              "    <tr>\n",
              "      <th>18233</th>\n",
              "      <td>'www.institutocgr.coo/web/media/syqvem/dk-\u000fóij...</td>\n",
              "      <td>good</td>\n",
              "      <td>[www, institutocgr, coo, web, media, syqvem, d...</td>\n",
              "      <td>[www, institutocgr, coo, web, media, syqvem, d...</td>\n",
              "      <td>www institutocgr coo web media syqvem dk ij r ...</td>\n",
              "    </tr>\n",
              "    <tr>\n",
              "      <th>18234</th>\n",
              "      <td>\u0011\u0018Yìê\fkoãÕ»Î§DéÎ\u0002l½ñ¡ââqtò¸/à; Í</td>\n",
              "      <td>good</td>\n",
              "      <td>[Y, ko, D, l, qt]</td>\n",
              "      <td>[y, ko, d, l, qt]</td>\n",
              "      <td>y ko d l qt</td>\n",
              "    </tr>\n",
              "    <tr>\n",
              "      <th>18236</th>\n",
              "      <td>ruta89fm.com/images/AS@Vies/1i75cf7b16vc&lt;F\u0015d16...</td>\n",
              "      <td>good</td>\n",
              "      <td>[ruta, fm, com, images, AS, Vies, i, cf, b, vc...</td>\n",
              "      <td>[ruta, fm, com, imag, as, vie, i, cf, b, vc, f...</td>\n",
              "      <td>ruta fm com imag as vie i cf b vc f d b g sd v...</td>\n",
              "    </tr>\n",
              "  </tbody>\n",
              "</table>\n",
              "</div>"
            ],
            "text/plain": [
              "                                                     URL  ...                                          text_sent\n",
              "18231  esxcc.com/js/index.htm?us.battle.net/noghn/en/...  ...  esxcc com js index htm us battl net noghn en r...\n",
              "18232  www\u000eeira¯&nvinip¿ncH¯wVö%ÆåyDaHðû/ÏyEùu\u0003Ë\\nÓ\u00176...  ...  www eira nvinip nch wv ydah ye u rt u g m i xz...\n",
              "18233  'www.institutocgr.coo/web/media/syqvem/dk-\u000fóij...  ...  www institutocgr coo web media syqvem dk ij r ...\n",
              "18234                  \u0011\u0018Yìê\n",
              "koãÕ»Î§DéÎ\u0002l½ñ¡ââqtò¸/à; Í  ...                                        y ko d l qt\n",
              "18236  ruta89fm.com/images/AS@Vies/1i75cf7b16vc<F\u0015d16...  ...  ruta fm com imag as vie i cf b vc f d b g sd v...\n",
              "\n",
              "[5 rows x 5 columns]"
            ]
          },
          "metadata": {},
          "execution_count": 24
        }
      ]
    },
    {
      "cell_type": "code",
      "metadata": {
        "id": "qjT1KrOyuQFT"
      },
      "source": [
        "cv = CountVectorizer()"
      ],
      "execution_count": null,
      "outputs": []
    },
    {
      "cell_type": "code",
      "metadata": {
        "id": "UBIyCsYvuTg0"
      },
      "source": [
        "feature = cv.fit_transform(phish_data.text_sent) \n"
      ],
      "execution_count": null,
      "outputs": []
    },
    {
      "cell_type": "markdown",
      "metadata": {
        "id": "VHExvzR24yAj"
      },
      "source": [
        "****LogisticRegression---------------------------------------------------------**"
      ]
    },
    {
      "cell_type": "code",
      "metadata": {
        "colab": {
          "base_uri": "https://localhost:8080/"
        },
        "id": "RbVW7TEluaJI",
        "outputId": "2fce839a-3fc4-45e6-894f-2d4355f200c3"
      },
      "source": [
        "feature[:5].toarray() "
      ],
      "execution_count": null,
      "outputs": [
        {
          "output_type": "execute_result",
          "data": {
            "text/plain": [
              "array([[0, 0, 0, ..., 0, 0, 0],\n",
              "       [0, 0, 0, ..., 0, 0, 0],\n",
              "       [0, 0, 0, ..., 0, 0, 0],\n",
              "       [0, 0, 0, ..., 0, 0, 0],\n",
              "       [0, 0, 0, ..., 0, 0, 0]])"
            ]
          },
          "metadata": {},
          "execution_count": 27
        }
      ]
    },
    {
      "cell_type": "code",
      "metadata": {
        "id": "3ZLieaEoubbo"
      },
      "source": [
        "trainX, testX, trainY, testY = train_test_split(feature, phish_data.Label)"
      ],
      "execution_count": null,
      "outputs": []
    },
    {
      "cell_type": "code",
      "metadata": {
        "id": "3tGWfywXwQU0"
      },
      "source": [
        "# create lr object\n",
        "lr = LogisticRegression()"
      ],
      "execution_count": null,
      "outputs": []
    },
    {
      "cell_type": "code",
      "metadata": {
        "colab": {
          "base_uri": "https://localhost:8080/"
        },
        "id": "qteTZj0ZwYMy",
        "outputId": "b22a087b-26ad-4247-a4dc-6fdeffa91f51"
      },
      "source": [
        "lr.fit(trainX,trainY)"
      ],
      "execution_count": null,
      "outputs": [
        {
          "output_type": "execute_result",
          "data": {
            "text/plain": [
              "LogisticRegression()"
            ]
          },
          "metadata": {},
          "execution_count": 30
        }
      ]
    },
    {
      "cell_type": "code",
      "metadata": {
        "colab": {
          "base_uri": "https://localhost:8080/"
        },
        "id": "Y7YgIPHkwfnf",
        "outputId": "1e65c133-3c12-4823-c67e-86c2eb2569ca"
      },
      "source": [
        "lr.score(testX,testY)"
      ],
      "execution_count": null,
      "outputs": [
        {
          "output_type": "execute_result",
          "data": {
            "text/plain": [
              "0.9646999716026999"
            ]
          },
          "metadata": {},
          "execution_count": 31
        }
      ]
    },
    {
      "cell_type": "code",
      "metadata": {
        "id": "IuXVtdn7wjdt"
      },
      "source": [
        "Scores_ml = {}\n",
        "Scores_ml['Logistic Regression'] = np.round(lr.score(testX,testY),2)"
      ],
      "execution_count": null,
      "outputs": []
    },
    {
      "cell_type": "code",
      "metadata": {
        "id": "N9q3EWFQwtDE"
      },
      "source": [
        "pipeline_ls = make_pipeline(CountVectorizer(tokenizer = RegexpTokenizer(r'[A-Za-z]+').tokenize,stop_words='english'), LogisticRegression())\n"
      ],
      "execution_count": null,
      "outputs": []
    },
    {
      "cell_type": "code",
      "metadata": {
        "id": "5sGbEGAQww1G"
      },
      "source": [
        "trainX, testX, trainY, testY = train_test_split(phish_data.URL, phish_data.Label)"
      ],
      "execution_count": null,
      "outputs": []
    },
    {
      "cell_type": "code",
      "metadata": {
        "colab": {
          "base_uri": "https://localhost:8080/"
        },
        "id": "PNcuf3VrwzG3",
        "outputId": "737d2336-049c-4da7-ea7b-a8bea0b668c7"
      },
      "source": [
        "pipeline_ls.fit(trainX,trainY)"
      ],
      "execution_count": null,
      "outputs": [
        {
          "output_type": "execute_result",
          "data": {
            "text/plain": [
              "Pipeline(steps=[('countvectorizer',\n",
              "                 CountVectorizer(stop_words='english',\n",
              "                                 tokenizer=<bound method RegexpTokenizer.tokenize of RegexpTokenizer(pattern='[A-Za-z]+', gaps=False, discard_empty=True, flags=<RegexFlag.UNICODE|DOTALL|MULTILINE: 56>)>)),\n",
              "                ('logisticregression', LogisticRegression())])"
            ]
          },
          "metadata": {},
          "execution_count": 35
        }
      ]
    },
    {
      "cell_type": "code",
      "metadata": {
        "colab": {
          "base_uri": "https://localhost:8080/"
        },
        "id": "o4-LEi4Fw6rv",
        "outputId": "3fda1ce1-ee8f-4eac-894f-eb16b2121ae3"
      },
      "source": [
        "pipeline_ls.score(testX,testY)"
      ],
      "execution_count": null,
      "outputs": [
        {
          "output_type": "execute_result",
          "data": {
            "text/plain": [
              "0.9664038096070251"
            ]
          },
          "metadata": {},
          "execution_count": 36
        }
      ]
    },
    {
      "cell_type": "code",
      "metadata": {
        "id": "uYDXN01sxCEe"
      },
      "source": [
        "import pickle\n",
        "pickle.dump(pipeline_ls,open('/content/ph.pkl','wb'))"
      ],
      "execution_count": null,
      "outputs": []
    },
    {
      "cell_type": "code",
      "metadata": {
        "colab": {
          "base_uri": "https://localhost:8080/"
        },
        "id": "eOKJYrFWxgQD",
        "outputId": "e200e50f-b64b-46fd-901a-a496429d34f2"
      },
      "source": [
        "loaded_model = pickle.load(open('/content/ph.pkl', 'rb'))\n",
        "result = loaded_model.score(testX,testY)\n",
        "print(result)\n"
      ],
      "execution_count": null,
      "outputs": [
        {
          "output_type": "stream",
          "name": "stdout",
          "text": [
            "0.9664038096070251\n"
          ]
        }
      ]
    },
    {
      "cell_type": "code",
      "metadata": {
        "colab": {
          "base_uri": "https://localhost:8080/"
        },
        "id": "6C1VtSVxxtcs",
        "outputId": "7b55d318-9c04-4c8d-d861-d065b639c17a"
      },
      "source": [
        "predict_bad = ['tubemoviez.exe','https://www.facebook.com','youtube.com/','svision-online.de/mgfi/administrator/components/com_babackup/classes/fx29id1.txt']\n",
        "predict_good = ['youtube.com/watch?v=qI0TQJI3vdU','retailhellunderground.com/','restorevisioncenters.com/html/technology.html']\n",
        "loaded_model = pickle.load(open('ph.pkl', 'rb'))\n",
        "result = loaded_model.predict(predict_bad)\n",
        "result2 = loaded_model.predict(predict_good)\n",
        "print(result)\n",
        "print(\"*\"*30)\n",
        "print(result2)"
      ],
      "execution_count": null,
      "outputs": [
        {
          "output_type": "stream",
          "name": "stdout",
          "text": [
            "['bad' 'good' 'good' 'bad']\n",
            "******************************\n",
            "['good' 'good' 'good']\n"
          ]
        }
      ]
    }
  ]
}